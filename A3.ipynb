{
 "cells": [
  {
   "cell_type": "markdown",
   "metadata": {},
   "source": [
    "# A3: Project on complex networks\n",
    "### Analyzing Spotify Data: Global Patterns of Musical Taste and Artist/Genre Clustering by Country\n",
    "#### _By Saioa Elizondo, Marc Albesa and Maria Fité_\n",
    "**Group Name:** A3L\n",
    "\n",
    "**Objective:** Development of a Project in which you put into practice some of the knowledge acquired\n",
    "during this course on Complex Networks.\n",
    "\n",
    "**Kind of project:** Analysis. Obtain real data which can be put in terms of network(s),\n",
    "and analyze the network(s) to answer any question or hypothesis\n",
    "about them. It is not enough to calculate descriptors or communities,\n",
    "you must try to answer relevant questions about the system's\n",
    "functioning."
   ]
  },
  {
   "cell_type": "markdown",
   "metadata": {},
   "source": [
    "## 0. Preparing the enviroment"
   ]
  },
  {
   "cell_type": "code",
   "execution_count": 5,
   "metadata": {},
   "outputs": [
    {
     "name": "stdout",
     "output_type": "stream",
     "text": [
      "Requirement already satisfied: spotipy in /opt/miniconda3/envs/CN-Master/lib/python3.9/site-packages (2.24.0)\n",
      "Requirement already satisfied: redis>=3.5.3 in /opt/miniconda3/envs/CN-Master/lib/python3.9/site-packages (from spotipy) (5.2.1)\n",
      "Requirement already satisfied: requests>=2.25.0 in /opt/miniconda3/envs/CN-Master/lib/python3.9/site-packages (from spotipy) (2.32.3)\n",
      "Requirement already satisfied: urllib3>=1.26.0 in /opt/miniconda3/envs/CN-Master/lib/python3.9/site-packages (from spotipy) (2.2.3)\n",
      "Requirement already satisfied: async-timeout>=4.0.3 in /opt/miniconda3/envs/CN-Master/lib/python3.9/site-packages (from redis>=3.5.3->spotipy) (5.0.1)\n",
      "Requirement already satisfied: charset-normalizer<4,>=2 in /opt/miniconda3/envs/CN-Master/lib/python3.9/site-packages (from requests>=2.25.0->spotipy) (3.3.2)\n",
      "Requirement already satisfied: idna<4,>=2.5 in /opt/miniconda3/envs/CN-Master/lib/python3.9/site-packages (from requests>=2.25.0->spotipy) (3.7)\n",
      "Requirement already satisfied: certifi>=2017.4.17 in /opt/miniconda3/envs/CN-Master/lib/python3.9/site-packages (from requests>=2.25.0->spotipy) (2024.8.30)\n",
      "Note: you may need to restart the kernel to use updated packages.\n"
     ]
    }
   ],
   "source": [
    "%pip install spotipy"
   ]
  },
  {
   "cell_type": "code",
   "execution_count": 6,
   "metadata": {},
   "outputs": [],
   "source": [
    "# Code to import the needed modules/packages to run the notebook\n",
    "import os\n",
    "import ast\n",
    "import pandas as pd # dataframes\n",
    "import numpy as np # Mathematical operations\n",
    "import matplotlib.pyplot as plt # Representation\n",
    "import random as random\n",
    "import networkx as nx # Network tools\n",
    "import spotipy\n",
    "from matplotlib import rcParams\n",
    "from matplotlib import colors\n",
    "from matplotlib.lines import Line2D\n",
    "from matplotlib.patches import FancyArrowPatch\n",
    "from collections import Counter\n",
    "from sklearn.cluster import KMeans\n",
    "from scipy.sparse.linalg import eigsh\n",
    "from spotipy.oauth2 import SpotifyClientCredentials\n",
    "\n",
    "# Get workng directory\n",
    "wd = os.getcwd()\n",
    "np.random.seed(52)"
   ]
  },
  {
   "cell_type": "code",
   "execution_count": 7,
   "metadata": {},
   "outputs": [],
   "source": [
    "# Set up credentials\n",
    "client_id = 'albesa.marc@gmail.com'\n",
    "client_secret = 'Pauimarc.06'  \n",
    "\n",
    "# Authenticate\n",
    "sp = spotipy.Spotify(auth_manager=SpotifyClientCredentials(client_id=client_id, client_secret=client_secret))"
   ]
  },
  {
   "cell_type": "code",
   "execution_count": 8,
   "metadata": {},
   "outputs": [],
   "source": [
    "def get_playlist_tracks(playlist_id):\n",
    "    tracks_data = []\n",
    "    results = sp.playlist_tracks(playlist_id)\n",
    "    while results:\n",
    "        for item in results['items']:\n",
    "            track = item['track']\n",
    "            if track:  # Ensure track data exists\n",
    "                track_info = {\n",
    "                    'track_name': track['name'],\n",
    "                    'artist_name': [artist['name'] for artist in track['artists']],\n",
    "                    'artist_id': [artist['id'] for artist in track['artists']],\n",
    "                    'album_name': track['album']['name'],\n",
    "                    'track_popularity': track['popularity'],  # Popularity score (0-100)\n",
    "                }\n",
    "                tracks_data.append(track_info)\n",
    "        # Get next page of tracks (if available)\n",
    "        results = sp.next(results) if results['next'] else None\n",
    "    return tracks_data"
   ]
  },
  {
   "cell_type": "markdown",
   "metadata": {},
   "source": [
    "## 1. Importing data and constructing the network"
   ]
  },
  {
   "cell_type": "code",
   "execution_count": null,
   "metadata": {},
   "outputs": [],
   "source": [
    "# Example playlist IDs for top 50 in various countries\n",
    "playlist_ids = {\n",
    "    'USA': '37i9dQZEVXbLRQDuF5jeBp',\n",
    "    'UK': '37i9dQZEVXbLnolsZ8PSNw',\n",
    "    'India': '37i9dQZEVXbLZ52XmnySJg',\n",
    "    # Add more countries here...\n",
    "}\n",
    "\n",
    "all_data = []\n",
    "\n",
    "for country, playlist_id in playlist_ids.items():\n",
    "    print(f\"Fetching data for {country}...\")\n",
    "    tracks = get_playlist_tracks(playlist_id)\n",
    "    for track in tracks:\n",
    "        for artist_id in track['artist_id']:\n",
    "            artist_info = get_artist_info(artist_id)\n",
    "            all_data.append({\n",
    "                'country': country,\n",
    "                'track_name': track['track_name'],\n",
    "                'artist_name': artist_info['artist_name'],\n",
    "                'followers': artist_info['followers'],\n",
    "                'genres': artist_info['genres'],\n",
    "                'track_popularity': track['track_popularity'],\n",
    "                'artist_popularity': artist_info['popularity'],\n",
    "            })\n",
    "\n",
    "# Convert to DataFrame for analysis\n",
    "df = pd.DataFrame(all_data)"
   ]
  },
  {
   "cell_type": "code",
   "execution_count": null,
   "metadata": {},
   "outputs": [],
   "source": [
    "# Reading csv files\n",
    "edges = pd.read_csv(os.path.join(wd, \"network\", \"edges.csv\"))\n",
    "nodes = pd.read_csv(os.path.join(wd, \"network\", \"nodes.csv\"))\n",
    "\n",
    "# Defining directed graph\n",
    "G = nx.DiGraph()\n",
    "\n",
    "# Adding nodes\n",
    "nodenames = nodes[\"# index\"].values\n",
    "    \n",
    "for node in nodenames:\n",
    "    G.add_node(node, label=node)\n",
    "\n",
    "# Adding edges\n",
    "for i in range(len(edges)):\n",
    "    node1 = edges[\"# source\"][i]\n",
    "    node2 = edges[\" target\"][i]\n",
    "    regulation = int(edges[\" regulation_type\"][i])\n",
    "    if regulation == 1:\n",
    "        G.add_edge(node1,node2, reg_type = \"1\")\n",
    "    elif regulation == 2:\n",
    "        G.add_edge(node2,node1, reg_type = \"2\")\n",
    "    elif regulation == 3:\n",
    "        G.add_edge(node1,node2, reg_type = \"3\")\n",
    "        G.add_edge(node2,node1, reg_type = \"3\")\n",
    "\n",
    "# If the network is not (weakly) connected, select the largest connected component (LCC) \n",
    "# for the rest of the analysis. This LCC must have at least 200 nodes.\n",
    "\n",
    "# Get all weakly connected components\n",
    "weak_components = list(nx.weakly_connected_components(G)) \n",
    "\n",
    "# Find the largest weakly connected component (LCC)\n",
    "largest_weak_component = max(weak_components, key=len)\n",
    "G_lcc = G.subgraph(largest_weak_component).copy()\n",
    "\n",
    "# Updating nodes and edges for the lcc\n",
    "nodes_lcc = nodes[ nodes[\"# index\"].isin(G_lcc.nodes())]\n",
    "edges_lcc = edges[edges['# source'].isin(G_lcc.nodes()) & edges[' target'].isin(G_lcc.nodes())]\n",
    "\n",
    "# Check connectivity of the largest weakly connected component\n",
    "print(\"Largest connected component is weakly connected:\",nx.is_weakly_connected(G_lcc))\n",
    "\n",
    "# Check number of nodes is at least 200\n",
    "print('The number of nodes is:', G_lcc.number_of_nodes())"
   ]
  },
  {
   "cell_type": "code",
   "execution_count": null,
   "metadata": {},
   "outputs": [],
   "source": [
    "df.to_csv('spotify_top50_data.csv', index=False)"
   ]
  },
  {
   "cell_type": "code",
   "execution_count": null,
   "metadata": {},
   "outputs": [],
   "source": [
    "df.to_csv('spotify_top50_data.csv', index=False)"
   ]
  },
  {
   "cell_type": "markdown",
   "metadata": {},
   "source": []
  }
 ],
 "metadata": {
  "kernelspec": {
   "display_name": "CN-Master",
   "language": "python",
   "name": "python3"
  },
  "language_info": {
   "codemirror_mode": {
    "name": "ipython",
    "version": 3
   },
   "file_extension": ".py",
   "mimetype": "text/x-python",
   "name": "python",
   "nbconvert_exporter": "python",
   "pygments_lexer": "ipython3",
   "version": "3.9.18"
  }
 },
 "nbformat": 4,
 "nbformat_minor": 2
}
