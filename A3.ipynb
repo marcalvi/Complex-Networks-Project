{
 "cells": [
  {
   "cell_type": "markdown",
   "metadata": {},
   "source": [
    "# A3: Project on complex networks\n",
    "### Analyzing Spotify Data: Global Patterns of Musical Taste and Artist/Genre Clustering by Country\n",
    "#### _By Saioa Elizondo, Marc Albesa and Maria Fité_\n",
    "**Group Name:** A3L\n",
    "\n",
    "**Objective:** Development of a Project in which you put into practice some of the knowledge acquired\n",
    "during this course on Complex Networks.\n",
    "\n",
    "**Kind of project:** Analysis. Obtain real data which can be put in terms of network(s),\n",
    "and analyze the network(s) to answer any question or hypothesis\n",
    "about them. It is not enough to calculate descriptors or communities,\n",
    "you must try to answer relevant questions about the system's\n",
    "functioning."
   ]
  },
  {
   "cell_type": "markdown",
   "metadata": {},
   "source": [
    "## 0. Preparing the enviroment"
   ]
  },
  {
   "cell_type": "code",
   "execution_count": 5,
   "metadata": {},
   "outputs": [
    {
     "name": "stdout",
     "output_type": "stream",
     "text": [
      "Requirement already satisfied: spotipy in /opt/miniconda3/envs/CN-Master/lib/python3.9/site-packages (2.24.0)\n",
      "Requirement already satisfied: redis>=3.5.3 in /opt/miniconda3/envs/CN-Master/lib/python3.9/site-packages (from spotipy) (5.2.1)\n",
      "Requirement already satisfied: requests>=2.25.0 in /opt/miniconda3/envs/CN-Master/lib/python3.9/site-packages (from spotipy) (2.32.3)\n",
      "Requirement already satisfied: urllib3>=1.26.0 in /opt/miniconda3/envs/CN-Master/lib/python3.9/site-packages (from spotipy) (2.2.3)\n",
      "Requirement already satisfied: async-timeout>=4.0.3 in /opt/miniconda3/envs/CN-Master/lib/python3.9/site-packages (from redis>=3.5.3->spotipy) (5.0.1)\n",
      "Requirement already satisfied: charset-normalizer<4,>=2 in /opt/miniconda3/envs/CN-Master/lib/python3.9/site-packages (from requests>=2.25.0->spotipy) (3.3.2)\n",
      "Requirement already satisfied: idna<4,>=2.5 in /opt/miniconda3/envs/CN-Master/lib/python3.9/site-packages (from requests>=2.25.0->spotipy) (3.7)\n",
      "Requirement already satisfied: certifi>=2017.4.17 in /opt/miniconda3/envs/CN-Master/lib/python3.9/site-packages (from requests>=2.25.0->spotipy) (2024.8.30)\n",
      "Note: you may need to restart the kernel to use updated packages.\n"
     ]
    }
   ],
   "source": [
    "%pip install spotipy"
   ]
  },
  {
   "cell_type": "code",
   "execution_count": 17,
   "metadata": {},
   "outputs": [],
   "source": [
    "# Code to import the needed modules/packages to run the notebook\n",
    "import os\n",
    "import ast\n",
    "import pandas as pd # dataframes\n",
    "import numpy as np # Mathematical operations\n",
    "import matplotlib.pyplot as plt # Representation\n",
    "import random as random\n",
    "import networkx as nx # Network tools\n",
    "import spotipy\n",
    "from matplotlib import rcParams\n",
    "from matplotlib import colors\n",
    "from matplotlib.lines import Line2D\n",
    "from matplotlib.patches import FancyArrowPatch\n",
    "from collections import Counter\n",
    "from sklearn.cluster import KMeans\n",
    "from scipy.sparse.linalg import eigsh\n",
    "from spotipy.oauth2 import SpotifyClientCredentials\n",
    "\n",
    "# Get workng directory\n",
    "wd = os.getcwd()\n",
    "np.random.seed(52)"
   ]
  },
  {
   "cell_type": "code",
   "execution_count": 18,
   "metadata": {},
   "outputs": [],
   "source": [
    "# Set up credentials\n",
    "client_id = 'albesa.marc@gmail.com'\n",
    "client_secret = 'Pauimarc.06'  \n",
    "\n",
    "# Authenticate\n",
    "sp = spotipy.Spotify(auth_manager=SpotifyClientCredentials(client_id=client_id, client_secret=client_secret))"
   ]
  },
  {
   "cell_type": "markdown",
   "metadata": {},
   "source": [
    "## 1. Importing data and constructing the network"
   ]
  },
  {
   "cell_type": "code",
   "execution_count": 20,
   "metadata": {},
   "outputs": [],
   "source": [
    "playlist_ids = {\n",
    "    \"Catalonia\": \"5IczcOjRojDGQmphylNgAk\",  # Regional playlist for Catalonia\n",
    "    \"Spain\": \"37i9dQZEVXbNFJfN1Vw8d9\",  # Top 50 - Spain\n",
    "    \"Argentina\": \"37i9dQZEVXbMMy2roB9myp\",  # Top 50 - Argentina\n",
    "    \"Brazil\": \"37i9dQZEVXbMXbN3EUUhlg\",  # Top 50 - Brazil\n",
    "    \"Italy\": \"37i9dQZEVXbIQnj7RRhdSX\",  # Top 50 - Italy\n",
    "    \"France\": \"37i9dQZEVXbIPWwFssbupI\",  # Top 50 - France\n",
    "    \"USA\": \"37i9dQZEVXbLRQDuF5jeBp\",  # Top 50 - USA\n",
    "    \"Colombia\": \"37i9dQZEVXbOa2lmxNORXQ\",  # Top 50 - Colombia\n",
    "    \"UK\": \"37i9dQZEVXbLnolsZ8PSNw\",  # Top 50 - UK\n",
    "    \"Puerto Rico\": \"37i9dQZEVXbJvfa0Yxg7E7\",  # Top 50 - Puerto Rico\n",
    "    \"Mexico\": \"37i9dQZEVXbO3qyFxbkOE1\",  # Top 50 - Mexico\n",
    "    \"Chile\": \"37i9dQZEVXbL0GavIqMTeb\",  # Top 50 - Chile\n",
    "    \"Russia\": \"37i9dQZEVXbL8l7ra5vVdB\",  # Top 50 - Russia\n",
    "    \"Germany\": \"37i9dQZEVXbJiZcmkrIHGU\",  # Top 50 - Germany\n",
    "    \"Portugal\": \"37i9dQZEVXbKyJS56d1pgi\",  # Top 50 - Portugal\n",
    "    \"South Korea\": \"37i9dQZEVXbNxXF4SkHj9F\",  # Top 50 - South Korea\n",
    "    \"Venezuela\": \"37i9dQZEVXbJ6IpvItkve3\",  # Top 50 - Venezuela\n",
    "    \"Morocco\": \"37i9dQZEVXbJxGz0rDIpGj\",  # Top 50 - Morocco\n",
    "    \"China\": \"37i9dQZEVXbMVY2FDHm6NN\",  # Top 50 - China\n",
    "    \"Romania\": \"37i9dQZEVXbNZbJ6TZelCq\",  # Top 50 - Romania\n",
    "    \"Sweden\": \"37i9dQZEVXbLoATJ81JYXz\",  # Top 50 - Sweden\n",
    "    \"India\": \"37i9dQZEVXbLZ52XmnySJg\",  # Top 50 - India\n",
    "    \"Uruguay\": \"37i9dQZEVXbMJJi3wgRbAy\",  # Top 50 - Uruguay\n",
    "    \"Japan\": \"37i9dQZEVXbKXQ4mDTEBXq\",  # Top 50 - Japan\n",
    "    \"Ireland\": \"37i9dQZEVXbKM896FDX8L1\",  # Top 50 - Ireland\n",
    "    \"Cuba\": \"37i9dQZEVXbJp9wcIM9Eo5\",  # Top 50 - Cuba\n",
    "    \"Australia\": \"37i9dQZEVXbJPcfkRz0wJ0\",  # Top 50 - Australia\n",
    "}"
   ]
  },
  {
   "cell_type": "code",
   "execution_count": 21,
   "metadata": {},
   "outputs": [
    {
     "ename": "SpotifyOauthError",
     "evalue": "error: invalid_client, error_description: Invalid client",
     "output_type": "error",
     "traceback": [
      "\u001b[0;31m---------------------------------------------------------------------------\u001b[0m",
      "\u001b[0;31mHTTPError\u001b[0m                                 Traceback (most recent call last)",
      "File \u001b[0;32m/opt/miniconda3/envs/CN-Master/lib/python3.9/site-packages/spotipy/oauth2.py:256\u001b[0m, in \u001b[0;36mSpotifyClientCredentials._request_access_token\u001b[0;34m(self)\u001b[0m\n\u001b[1;32m    248\u001b[0m response \u001b[38;5;241m=\u001b[39m \u001b[38;5;28mself\u001b[39m\u001b[38;5;241m.\u001b[39m_session\u001b[38;5;241m.\u001b[39mpost(\n\u001b[1;32m    249\u001b[0m     \u001b[38;5;28mself\u001b[39m\u001b[38;5;241m.\u001b[39mOAUTH_TOKEN_URL,\n\u001b[1;32m    250\u001b[0m     data\u001b[38;5;241m=\u001b[39mpayload,\n\u001b[0;32m   (...)\u001b[0m\n\u001b[1;32m    254\u001b[0m     timeout\u001b[38;5;241m=\u001b[39m\u001b[38;5;28mself\u001b[39m\u001b[38;5;241m.\u001b[39mrequests_timeout,\n\u001b[1;32m    255\u001b[0m )\n\u001b[0;32m--> 256\u001b[0m \u001b[43mresponse\u001b[49m\u001b[38;5;241;43m.\u001b[39;49m\u001b[43mraise_for_status\u001b[49m\u001b[43m(\u001b[49m\u001b[43m)\u001b[49m\n\u001b[1;32m    257\u001b[0m token_info \u001b[38;5;241m=\u001b[39m response\u001b[38;5;241m.\u001b[39mjson()\n",
      "File \u001b[0;32m/opt/miniconda3/envs/CN-Master/lib/python3.9/site-packages/requests/models.py:1024\u001b[0m, in \u001b[0;36mResponse.raise_for_status\u001b[0;34m(self)\u001b[0m\n\u001b[1;32m   1023\u001b[0m \u001b[38;5;28;01mif\u001b[39;00m http_error_msg:\n\u001b[0;32m-> 1024\u001b[0m     \u001b[38;5;28;01mraise\u001b[39;00m HTTPError(http_error_msg, response\u001b[38;5;241m=\u001b[39m\u001b[38;5;28mself\u001b[39m)\n",
      "\u001b[0;31mHTTPError\u001b[0m: 400 Client Error: Bad Request for url: https://accounts.spotify.com/api/token",
      "\nDuring handling of the above exception, another exception occurred:\n",
      "\u001b[0;31mSpotifyOauthError\u001b[0m                         Traceback (most recent call last)",
      "Cell \u001b[0;32mIn[21], line 8\u001b[0m\n\u001b[1;32m      6\u001b[0m \u001b[38;5;66;03m# Fetch playlist tracks\u001b[39;00m\n\u001b[1;32m      7\u001b[0m \u001b[38;5;28;01mfor\u001b[39;00m country, playlist_id \u001b[38;5;129;01min\u001b[39;00m countries_and_playlists:\n\u001b[0;32m----> 8\u001b[0m     playlist_tracks \u001b[38;5;241m=\u001b[39m \u001b[43msp\u001b[49m\u001b[38;5;241;43m.\u001b[39;49m\u001b[43mplaylist_items\u001b[49m\u001b[43m(\u001b[49m\u001b[43mplaylist_id\u001b[49m\u001b[43m)\u001b[49m\n\u001b[1;32m      9\u001b[0m     country_artists \u001b[38;5;241m=\u001b[39m {\u001b[38;5;124m\"\u001b[39m\u001b[38;5;124mCountry\u001b[39m\u001b[38;5;124m\"\u001b[39m: country}\n\u001b[1;32m     11\u001b[0m \u001b[38;5;66;03m# Print each track's position and details\u001b[39;00m\n",
      "File \u001b[0;32m/opt/miniconda3/envs/CN-Master/lib/python3.9/site-packages/spotipy/client.py:722\u001b[0m, in \u001b[0;36mSpotify.playlist_items\u001b[0;34m(self, playlist_id, fields, limit, offset, market, additional_types)\u001b[0m\n\u001b[1;32m    710\u001b[0m \u001b[38;5;250m\u001b[39m\u001b[38;5;124;03m\"\"\" Get full details of the tracks and episodes of a playlist.\u001b[39;00m\n\u001b[1;32m    711\u001b[0m \n\u001b[1;32m    712\u001b[0m \u001b[38;5;124;03m    Parameters:\u001b[39;00m\n\u001b[0;32m   (...)\u001b[0m\n\u001b[1;32m    719\u001b[0m \u001b[38;5;124;03m                             valid types are: track and episode\u001b[39;00m\n\u001b[1;32m    720\u001b[0m \u001b[38;5;124;03m\"\"\"\u001b[39;00m\n\u001b[1;32m    721\u001b[0m plid \u001b[38;5;241m=\u001b[39m \u001b[38;5;28mself\u001b[39m\u001b[38;5;241m.\u001b[39m_get_id(\u001b[38;5;124m\"\u001b[39m\u001b[38;5;124mplaylist\u001b[39m\u001b[38;5;124m\"\u001b[39m, playlist_id)\n\u001b[0;32m--> 722\u001b[0m \u001b[38;5;28;01mreturn\u001b[39;00m \u001b[38;5;28;43mself\u001b[39;49m\u001b[38;5;241;43m.\u001b[39;49m\u001b[43m_get\u001b[49m\u001b[43m(\u001b[49m\n\u001b[1;32m    723\u001b[0m \u001b[43m    \u001b[49m\u001b[38;5;124;43mf\u001b[39;49m\u001b[38;5;124;43m\"\u001b[39;49m\u001b[38;5;124;43mplaylists/\u001b[39;49m\u001b[38;5;132;43;01m{\u001b[39;49;00m\u001b[43mplid\u001b[49m\u001b[38;5;132;43;01m}\u001b[39;49;00m\u001b[38;5;124;43m/tracks\u001b[39;49m\u001b[38;5;124;43m\"\u001b[39;49m\u001b[43m,\u001b[49m\n\u001b[1;32m    724\u001b[0m \u001b[43m    \u001b[49m\u001b[43mlimit\u001b[49m\u001b[38;5;241;43m=\u001b[39;49m\u001b[43mlimit\u001b[49m\u001b[43m,\u001b[49m\n\u001b[1;32m    725\u001b[0m \u001b[43m    \u001b[49m\u001b[43moffset\u001b[49m\u001b[38;5;241;43m=\u001b[39;49m\u001b[43moffset\u001b[49m\u001b[43m,\u001b[49m\n\u001b[1;32m    726\u001b[0m \u001b[43m    \u001b[49m\u001b[43mfields\u001b[49m\u001b[38;5;241;43m=\u001b[39;49m\u001b[43mfields\u001b[49m\u001b[43m,\u001b[49m\n\u001b[1;32m    727\u001b[0m \u001b[43m    \u001b[49m\u001b[43mmarket\u001b[49m\u001b[38;5;241;43m=\u001b[39;49m\u001b[43mmarket\u001b[49m\u001b[43m,\u001b[49m\n\u001b[1;32m    728\u001b[0m \u001b[43m    \u001b[49m\u001b[43madditional_types\u001b[49m\u001b[38;5;241;43m=\u001b[39;49m\u001b[38;5;124;43m\"\u001b[39;49m\u001b[38;5;124;43m,\u001b[39;49m\u001b[38;5;124;43m\"\u001b[39;49m\u001b[38;5;241;43m.\u001b[39;49m\u001b[43mjoin\u001b[49m\u001b[43m(\u001b[49m\u001b[43madditional_types\u001b[49m\u001b[43m)\u001b[49m\n\u001b[1;32m    729\u001b[0m \u001b[43m\u001b[49m\u001b[43m)\u001b[49m\n",
      "File \u001b[0;32m/opt/miniconda3/envs/CN-Master/lib/python3.9/site-packages/spotipy/client.py:327\u001b[0m, in \u001b[0;36mSpotify._get\u001b[0;34m(self, url, args, payload, **kwargs)\u001b[0m\n\u001b[1;32m    324\u001b[0m \u001b[38;5;28;01mif\u001b[39;00m args:\n\u001b[1;32m    325\u001b[0m     kwargs\u001b[38;5;241m.\u001b[39mupdate(args)\n\u001b[0;32m--> 327\u001b[0m \u001b[38;5;28;01mreturn\u001b[39;00m \u001b[38;5;28;43mself\u001b[39;49m\u001b[38;5;241;43m.\u001b[39;49m\u001b[43m_internal_call\u001b[49m\u001b[43m(\u001b[49m\u001b[38;5;124;43m\"\u001b[39;49m\u001b[38;5;124;43mGET\u001b[39;49m\u001b[38;5;124;43m\"\u001b[39;49m\u001b[43m,\u001b[49m\u001b[43m \u001b[49m\u001b[43murl\u001b[49m\u001b[43m,\u001b[49m\u001b[43m \u001b[49m\u001b[43mpayload\u001b[49m\u001b[43m,\u001b[49m\u001b[43m \u001b[49m\u001b[43mkwargs\u001b[49m\u001b[43m)\u001b[49m\n",
      "File \u001b[0;32m/opt/miniconda3/envs/CN-Master/lib/python3.9/site-packages/spotipy/client.py:251\u001b[0m, in \u001b[0;36mSpotify._internal_call\u001b[0;34m(self, method, url, payload, params)\u001b[0m\n\u001b[1;32m    249\u001b[0m \u001b[38;5;28;01mif\u001b[39;00m \u001b[38;5;129;01mnot\u001b[39;00m url\u001b[38;5;241m.\u001b[39mstartswith(\u001b[38;5;124m\"\u001b[39m\u001b[38;5;124mhttp\u001b[39m\u001b[38;5;124m\"\u001b[39m):\n\u001b[1;32m    250\u001b[0m     url \u001b[38;5;241m=\u001b[39m \u001b[38;5;28mself\u001b[39m\u001b[38;5;241m.\u001b[39mprefix \u001b[38;5;241m+\u001b[39m url\n\u001b[0;32m--> 251\u001b[0m headers \u001b[38;5;241m=\u001b[39m \u001b[38;5;28;43mself\u001b[39;49m\u001b[38;5;241;43m.\u001b[39;49m\u001b[43m_auth_headers\u001b[49m\u001b[43m(\u001b[49m\u001b[43m)\u001b[49m\n\u001b[1;32m    253\u001b[0m \u001b[38;5;28;01mif\u001b[39;00m \u001b[38;5;124m\"\u001b[39m\u001b[38;5;124mcontent_type\u001b[39m\u001b[38;5;124m\"\u001b[39m \u001b[38;5;129;01min\u001b[39;00m args[\u001b[38;5;124m\"\u001b[39m\u001b[38;5;124mparams\u001b[39m\u001b[38;5;124m\"\u001b[39m]:\n\u001b[1;32m    254\u001b[0m     headers[\u001b[38;5;124m\"\u001b[39m\u001b[38;5;124mContent-Type\u001b[39m\u001b[38;5;124m\"\u001b[39m] \u001b[38;5;241m=\u001b[39m args[\u001b[38;5;124m\"\u001b[39m\u001b[38;5;124mparams\u001b[39m\u001b[38;5;124m\"\u001b[39m][\u001b[38;5;124m\"\u001b[39m\u001b[38;5;124mcontent_type\u001b[39m\u001b[38;5;124m\"\u001b[39m]\n",
      "File \u001b[0;32m/opt/miniconda3/envs/CN-Master/lib/python3.9/site-packages/spotipy/client.py:242\u001b[0m, in \u001b[0;36mSpotify._auth_headers\u001b[0;34m(self)\u001b[0m\n\u001b[1;32m    240\u001b[0m     \u001b[38;5;28;01mreturn\u001b[39;00m {}\n\u001b[1;32m    241\u001b[0m \u001b[38;5;28;01mtry\u001b[39;00m:\n\u001b[0;32m--> 242\u001b[0m     token \u001b[38;5;241m=\u001b[39m \u001b[38;5;28;43mself\u001b[39;49m\u001b[38;5;241;43m.\u001b[39;49m\u001b[43mauth_manager\u001b[49m\u001b[38;5;241;43m.\u001b[39;49m\u001b[43mget_access_token\u001b[49m\u001b[43m(\u001b[49m\u001b[43mas_dict\u001b[49m\u001b[38;5;241;43m=\u001b[39;49m\u001b[38;5;28;43;01mFalse\u001b[39;49;00m\u001b[43m)\u001b[49m\n\u001b[1;32m    243\u001b[0m \u001b[38;5;28;01mexcept\u001b[39;00m \u001b[38;5;167;01mTypeError\u001b[39;00m:\n\u001b[1;32m    244\u001b[0m     token \u001b[38;5;241m=\u001b[39m \u001b[38;5;28mself\u001b[39m\u001b[38;5;241m.\u001b[39mauth_manager\u001b[38;5;241m.\u001b[39mget_access_token()\n",
      "File \u001b[0;32m/opt/miniconda3/envs/CN-Master/lib/python3.9/site-packages/spotipy/oauth2.py:229\u001b[0m, in \u001b[0;36mSpotifyClientCredentials.get_access_token\u001b[0;34m(self, as_dict, check_cache)\u001b[0m\n\u001b[1;32m    226\u001b[0m     \u001b[38;5;28;01mif\u001b[39;00m token_info \u001b[38;5;129;01mand\u001b[39;00m \u001b[38;5;129;01mnot\u001b[39;00m \u001b[38;5;28mself\u001b[39m\u001b[38;5;241m.\u001b[39mis_token_expired(token_info):\n\u001b[1;32m    227\u001b[0m         \u001b[38;5;28;01mreturn\u001b[39;00m token_info \u001b[38;5;28;01mif\u001b[39;00m as_dict \u001b[38;5;28;01melse\u001b[39;00m token_info[\u001b[38;5;124m\"\u001b[39m\u001b[38;5;124maccess_token\u001b[39m\u001b[38;5;124m\"\u001b[39m]\n\u001b[0;32m--> 229\u001b[0m token_info \u001b[38;5;241m=\u001b[39m \u001b[38;5;28;43mself\u001b[39;49m\u001b[38;5;241;43m.\u001b[39;49m\u001b[43m_request_access_token\u001b[49m\u001b[43m(\u001b[49m\u001b[43m)\u001b[49m\n\u001b[1;32m    230\u001b[0m token_info \u001b[38;5;241m=\u001b[39m \u001b[38;5;28mself\u001b[39m\u001b[38;5;241m.\u001b[39m_add_custom_values_to_token_info(token_info)\n\u001b[1;32m    231\u001b[0m \u001b[38;5;28mself\u001b[39m\u001b[38;5;241m.\u001b[39mcache_handler\u001b[38;5;241m.\u001b[39msave_token_to_cache(token_info)\n",
      "File \u001b[0;32m/opt/miniconda3/envs/CN-Master/lib/python3.9/site-packages/spotipy/oauth2.py:260\u001b[0m, in \u001b[0;36mSpotifyClientCredentials._request_access_token\u001b[0;34m(self)\u001b[0m\n\u001b[1;32m    258\u001b[0m     \u001b[38;5;28;01mreturn\u001b[39;00m token_info\n\u001b[1;32m    259\u001b[0m \u001b[38;5;28;01mexcept\u001b[39;00m requests\u001b[38;5;241m.\u001b[39mexceptions\u001b[38;5;241m.\u001b[39mHTTPError \u001b[38;5;28;01mas\u001b[39;00m http_error:\n\u001b[0;32m--> 260\u001b[0m     \u001b[38;5;28;43mself\u001b[39;49m\u001b[38;5;241;43m.\u001b[39;49m\u001b[43m_handle_oauth_error\u001b[49m\u001b[43m(\u001b[49m\u001b[43mhttp_error\u001b[49m\u001b[43m)\u001b[49m\n",
      "File \u001b[0;32m/opt/miniconda3/envs/CN-Master/lib/python3.9/site-packages/spotipy/oauth2.py:139\u001b[0m, in \u001b[0;36mSpotifyAuthBase._handle_oauth_error\u001b[0;34m(self, http_error)\u001b[0m\n\u001b[1;32m    136\u001b[0m     error \u001b[38;5;241m=\u001b[39m response\u001b[38;5;241m.\u001b[39mtext \u001b[38;5;129;01mor\u001b[39;00m \u001b[38;5;28;01mNone\u001b[39;00m\n\u001b[1;32m    137\u001b[0m     error_description \u001b[38;5;241m=\u001b[39m \u001b[38;5;28;01mNone\u001b[39;00m\n\u001b[0;32m--> 139\u001b[0m \u001b[38;5;28;01mraise\u001b[39;00m SpotifyOauthError(\n\u001b[1;32m    140\u001b[0m     \u001b[38;5;124mf\u001b[39m\u001b[38;5;124m'\u001b[39m\u001b[38;5;124merror: \u001b[39m\u001b[38;5;132;01m{\u001b[39;00merror\u001b[38;5;132;01m}\u001b[39;00m\u001b[38;5;124m, error_description: \u001b[39m\u001b[38;5;132;01m{\u001b[39;00merror_description\u001b[38;5;132;01m}\u001b[39;00m\u001b[38;5;124m'\u001b[39m,\n\u001b[1;32m    141\u001b[0m     error\u001b[38;5;241m=\u001b[39merror,\n\u001b[1;32m    142\u001b[0m     error_description\u001b[38;5;241m=\u001b[39merror_description\n\u001b[1;32m    143\u001b[0m )\n",
      "\u001b[0;31mSpotifyOauthError\u001b[0m: error: invalid_client, error_description: Invalid client"
     ]
    }
   ],
   "source": [
    "dataframe = []\n",
    "dataframe.append(list(playlist_ids.keys()))\n",
    "\n",
    "countries_and_playlists = [(\"Catalonia\", \"5IczcOjRojDGQmphylNgAk\")]\n",
    "\n",
    "# Fetch playlist tracks\n",
    "for country, playlist_id in countries_and_playlists:\n",
    "    playlist_tracks = sp.playlist_items(playlist_id)\n",
    "    country_artists = {\"Country\": country}\n",
    "\n",
    "# Print each track's position and details\n",
    "    for index, item in enumerate(playlist_tracks['items']):\n",
    "        track = item[\"track\"]\n",
    "        Position = {index + 1}\n",
    "        Artist = {track[\"artists\"][0][\"name\"]}\n",
    "        Album = track[\"album\"]\n",
    "        Popularity = track[\"popularity\"]\n",
    "        popularity_score = Popularity/Position\n",
    "        country_artists[\"Artist\"] = popularity_score\n",
    "\n",
    "# Convert to DataFrame for analysis\n",
    "df = pd.DataFrame(dataframe)"
   ]
  },
  {
   "cell_type": "code",
   "execution_count": 11,
   "metadata": {},
   "outputs": [
    {
     "data": {
      "text/plain": [
       "[<generator object <genexpr> at 0x15b003580>]"
      ]
     },
     "execution_count": 11,
     "metadata": {},
     "output_type": "execute_result"
    }
   ],
   "source": [
    "dataframe = []\n",
    "\n",
    "df = pd.DataFrame(columns=[\"Country\"])\n",
    "\n",
    "print(df)\n",
    "\n",
    "# Initial DataFrame\n",
    "df = pd.DataFrame([\n",
    "    {\"Country\": \"USA\", \"Artist\": \"Artist1\", \"Score\": 95},\n",
    "    {\"Country\": \"Canada\", \"Artist\": \"Artist2\", \"Score\": 90}\n",
    "])\n",
    "\n",
    "# New data for an existing artist\n",
    "new_data = {\"Country\": \"USA\", \"Artist\": \"Artist1\", \"Score\": 98}\n",
    "\n",
    "# Check if the artist already exists\n",
    "if new_data[\"Artist\"] in df[\"Artist\"].values:\n",
    "    df.loc[df[\"Artist\"] == new_data[\"Artist\"], [\"Country\", \"Score\"]] = new_data[\"Country\"], new_data[\"Score\"]\n",
    "else:\n",
    "    # Add as a new row\n",
    "    df = pd.concat([df, pd.DataFrame([new_data])], ignore_index=True)\n",
    "\n",
    "print(df)\n",
    "\n",
    "\n",
    "# Initialize the DataFrame with artists as columns\n",
    "df = pd.DataFrame(columns=[\"Country\", \"Artist1\", \"Artist2\", \"Artist3\"])\n",
    "\n",
    "# New data for a country\n",
    "new_data = {\"Country\": \"USA\", \"Artist1\": 95, \"Artist2\": 90, \"Artist3\": 80}\n",
    "\n",
    "# Check if the country already exists in the DataFrame\n",
    "if new_data[\"Country\"] in df[\"Country\"].values:\n",
    "    # Update the existing row\n",
    "    df.loc[df[\"Country\"] == new_data[\"Country\"], :] = new_data\n",
    "else:\n",
    "    # Add a new row\n",
    "    df = pd.concat([df, pd.DataFrame([new_data])], ignore_index=True)\n",
    "\n",
    "print(df)"
   ]
  },
  {
   "cell_type": "code",
   "execution_count": null,
   "metadata": {},
   "outputs": [],
   "source": [
    "# Reading csv files\n",
    "edges = pd.read_csv(os.path.join(wd, \"network\", \"edges.csv\"))\n",
    "nodes = pd.read_csv(os.path.join(wd, \"network\", \"nodes.csv\"))\n",
    "\n",
    "# Defining directed graph\n",
    "G = nx.DiGraph()\n",
    "\n",
    "# Adding nodes\n",
    "nodenames = nodes[\"# index\"].values\n",
    "    \n",
    "for node in nodenames:\n",
    "    G.add_node(node, label=node)\n",
    "\n",
    "# Adding edges\n",
    "for i in range(len(edges)):\n",
    "    node1 = edges[\"# source\"][i]\n",
    "    node2 = edges[\" target\"][i]\n",
    "    regulation = int(edges[\" regulation_type\"][i])\n",
    "    if regulation == 1:\n",
    "        G.add_edge(node1,node2, reg_type = \"1\")\n",
    "    elif regulation == 2:\n",
    "        G.add_edge(node2,node1, reg_type = \"2\")\n",
    "    elif regulation == 3:\n",
    "        G.add_edge(node1,node2, reg_type = \"3\")\n",
    "        G.add_edge(node2,node1, reg_type = \"3\")\n",
    "\n",
    "# If the network is not (weakly) connected, select the largest connected component (LCC) \n",
    "# for the rest of the analysis. This LCC must have at least 200 nodes.\n",
    "\n",
    "# Get all weakly connected components\n",
    "weak_components = list(nx.weakly_connected_components(G)) \n",
    "\n",
    "# Find the largest weakly connected component (LCC)\n",
    "largest_weak_component = max(weak_components, key=len)\n",
    "G_lcc = G.subgraph(largest_weak_component).copy()\n",
    "\n",
    "# Updating nodes and edges for the lcc\n",
    "nodes_lcc = nodes[ nodes[\"# index\"].isin(G_lcc.nodes())]\n",
    "edges_lcc = edges[edges['# source'].isin(G_lcc.nodes()) & edges[' target'].isin(G_lcc.nodes())]\n",
    "\n",
    "# Check connectivity of the largest weakly connected component\n",
    "print(\"Largest connected component is weakly connected:\",nx.is_weakly_connected(G_lcc))\n",
    "\n",
    "# Check number of nodes is at least 200\n",
    "print('The number of nodes is:', G_lcc.number_of_nodes())"
   ]
  },
  {
   "cell_type": "code",
   "execution_count": null,
   "metadata": {},
   "outputs": [],
   "source": [
    "df.to_csv('spotify_top50_data.csv', index=False)"
   ]
  },
  {
   "cell_type": "code",
   "execution_count": null,
   "metadata": {},
   "outputs": [],
   "source": [
    "df.to_csv('spotify_top50_data.csv', index=False)"
   ]
  },
  {
   "cell_type": "markdown",
   "metadata": {},
   "source": []
  }
 ],
 "metadata": {
  "kernelspec": {
   "display_name": "CN-Master",
   "language": "python",
   "name": "python3"
  },
  "language_info": {
   "codemirror_mode": {
    "name": "ipython",
    "version": 3
   },
   "file_extension": ".py",
   "mimetype": "text/x-python",
   "name": "python",
   "nbconvert_exporter": "python",
   "pygments_lexer": "ipython3",
   "version": "3.9.18"
  }
 },
 "nbformat": 4,
 "nbformat_minor": 2
}
