{
 "cells": [
  {
   "cell_type": "markdown",
   "metadata": {},
   "source": [
    "# A3: Project on complex networks\n",
    "### Analyzing Spotify Data: Global Patterns of Musical Taste and Artist/Genre Clustering by Country\n",
    "#### _By Saioa Elizondo, Marc Albesa and Maria Fité_\n",
    "**Group Name:** A3L\n",
    "\n",
    "**Objective:** Development of a Project in which you put into practice some of the knowledge acquired\n",
    "during this course on Complex Networks.\n",
    "\n",
    "**Kind of project:** Analysis. Obtain real data which can be put in terms of network(s),\n",
    "and analyze the network(s) to answer any question or hypothesis\n",
    "about them. It is not enough to calculate descriptors or communities,\n",
    "you must try to answer relevant questions about the system's\n",
    "functioning."
   ]
  },
  {
   "cell_type": "markdown",
   "metadata": {},
   "source": []
  },
  {
   "cell_type": "markdown",
   "metadata": {},
   "source": []
  }
 ],
 "metadata": {
  "language_info": {
   "name": "python"
  }
 },
 "nbformat": 4,
 "nbformat_minor": 2
}
